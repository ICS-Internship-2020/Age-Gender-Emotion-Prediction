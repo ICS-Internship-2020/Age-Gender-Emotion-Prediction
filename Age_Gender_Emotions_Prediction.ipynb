{
  "nbformat": 4,
  "nbformat_minor": 0,
  "metadata": {
    "colab": {
      "name": "Age_Gender_Emotions_Prediction.ipynb",
      "provenance": [],
      "collapsed_sections": []
    },
    "kernelspec": {
      "name": "python3",
      "display_name": "Python 3"
    }
  },
  "cells": [
    {
      "cell_type": "code",
      "metadata": {
        "id": "MjdisYTPujns"
      },
      "source": [
        "from google.colab import drive\n",
        "drive.mount('/content/drive')"
      ],
      "execution_count": null,
      "outputs": []
    },
    {
      "cell_type": "code",
      "metadata": {
        "id": "WyvvfOHx-yAz"
      },
      "source": [
        "import sys\n",
        "sys.path.append('/content/drive/My Drive/sentiment_analysis_project')"
      ],
      "execution_count": null,
      "outputs": []
    },
    {
      "cell_type": "code",
      "metadata": {
        "id": "eCgpr2He--Sz"
      },
      "source": [
        "from pathlib import Path\n",
        "import cv2\n",
        "import dlib\n",
        "import sys\n",
        "import numpy as np\n",
        "import argparse\n",
        "from contextlib import contextmanager\n",
        "from wide_resnet import WideResNet\n",
        "from keras.utils.data_utils import get_file\n",
        "from keras.models import load_model\n",
        "from keras.preprocessing.image import img_to_array\n",
        "\n",
        "classifier = load_model('/content/drive/My Drive/sentiment_analysis_project/pretrained_models/emotion_little_vgg_2.h5')\n",
        "face_classifier = cv2.CascadeClassifier('/content/drive/My Drive/sentiment_analysis_project/Haarcascades/haarcascade_frontalface_default.xml')\n",
        "pretrained_model = \"weights2.hdf5\""
      ],
      "execution_count": null,
      "outputs": []
    },
    {
      "cell_type": "markdown",
      "metadata": {
        "id": "S5mIHv1r_Jbe"
      },
      "source": [
        "### Testing our Emotion, Age and Gender Detector - Using a Video from Path\n"
      ]
    },
    {
      "cell_type": "code",
      "metadata": {
        "id": "QnBOtqJ5_B4r",
        "outputId": "2404c069-f7e1-4e54-f81c-b4505461cb00",
        "colab": {
          "base_uri": "https://localhost:8080/",
          "height": 34
        }
      },
      "source": [
        "modhash = 'fbe63257a054c1c5466cfd7bf14646d6'\n",
        "emotion_classes = {0: 'Angry', 1: 'Fear', 2: 'Happy', 3: 'Neutral', 4: 'Sad', 5: 'Surprise'}\n",
        "\n",
        "def face_detector(img):\n",
        "    # Convert image to grayscale for faster detection\n",
        "    gray = cv2.cvtColor(img.copy(),cv2.COLOR_BGR2GRAY)\n",
        "    faces = face_classifier.detectMultiScale(gray, 1.3, 5)\n",
        "    if faces is ():\n",
        "        return False ,(0,0,0,0), np.zeros((1,48,48,3), np.uint8), img\n",
        "    \n",
        "    allfaces = []   \n",
        "    rects = []\n",
        "    for (x,y,w,h) in faces:\n",
        "        cv2.rectangle(img,(x,y),(x+w,y+h),(255,0,0),2)\n",
        "        roi = img[y:y+h, x:x+w]\n",
        "        allfaces.append(roi)\n",
        "        rects.append((x,w,y,h))\n",
        "    return True, rects, allfaces, img\n",
        "\n",
        "def preprocess_input(x, v2=True):\n",
        "    x = x.astype('float32')\n",
        "    x = x / 255.0\n",
        "    if v2:\n",
        "        x = x - 0.5\n",
        "        x = x * 2.0\n",
        "    return x\n",
        "\n",
        "# Define our model parameters\n",
        "depth = 16\n",
        "k = 8\n",
        "weight_file = None\n",
        "margin = 0.4\n",
        "image_dir = None\n",
        "\n",
        "\n",
        "# load model and weights\n",
        "img_size = 64\n",
        "model = WideResNet(img_size, depth=depth, k=k)()\n",
        "model.load_weights('/content/drive/My Drive/sentiment_analysis_project/pretrained_models/weights2.hdf5')\n",
        "\n",
        "gender_classifier = load_model(\"/content/drive/My Drive/sentiment_analysis_project/pretrained_models/gender/simple_CNN.81-0.96.hdf5\", compile=False)\n",
        "gender_target_size = gender_classifier.input_shape[1:3]\n",
        "\n",
        "\n",
        "# Initialize Video\n",
        "cap = cv2.VideoCapture(\"/content/drive/My Drive/sentiment_analysis_project/one-millionth-customer-prank-50-central.mp4\")\n",
        "\n",
        "\n",
        "frame_width = int(cap.get(3))\n",
        "frame_height = int(cap.get(4))\n",
        "\n",
        "fps = cap.get(cv2.CAP_PROP_FPS)\n",
        "print(fps)\n",
        "out = cv2.VideoWriter('/content/drive/My Drive/tryVideo_output3.avi',cv2.VideoWriter_fourcc('M','J','P','G'), fps, (frame_width,frame_height))\n",
        "\n",
        "from IPython.display import clear_output, Image\n",
        "import base64\n",
        "\n",
        "while True:\n",
        "    ret, frame = cap.read()\n",
        "    ret, rects, faces, image = face_detector(frame)\n",
        "    preprocessed_faces_ag = []\n",
        "    preprocessed_faces_emo = []\n",
        "    \n",
        "    predicted_genders = []\n",
        "    if ret:\n",
        "        for (i,face) in enumerate(faces):\n",
        "          \n",
        "            face_ag = cv2.resize(face, (64, 64), interpolation = cv2.INTER_AREA)\n",
        "            preprocessed_faces_ag.append(face_ag)\n",
        "\n",
        "            face_ag = cv2.resize(face, gender_target_size)\n",
        "                                 #, interpolation = cv2.INTER_AREA)\n",
        "            face_ag = cv2.cvtColor(face_ag, cv2.COLOR_BGR2RGB)\n",
        "            face_ag = np.expand_dims(face_ag, 0)\n",
        "            face_ag = preprocess_input(face_ag, False)\n",
        "            predicted_genders.append(gender_classifier.predict(face_ag))\n",
        "            #preprocessed_faces_ag.append(face_ag)\n",
        "\n",
        "            face_gray_emo = cv2.cvtColor(face, cv2.COLOR_BGR2GRAY)\n",
        "            face_gray_emo = cv2.resize(face_gray_emo, (48, 48), interpolation = cv2.INTER_AREA)\n",
        "            face_gray_emo = face_gray_emo.astype(\"float\") / 255.0\n",
        "            face_gray_emo = img_to_array(face_gray_emo)\n",
        "            face_gray_emo = np.expand_dims(face_gray_emo, axis=0)\n",
        "            preprocessed_faces_emo.append(face_gray_emo)\n",
        "            \n",
        "        # make a prediction for Age and Gender\n",
        "        results = model.predict(np.array(preprocessed_faces_ag))\n",
        "        #predicted_genders = results[0]\n",
        "        \n",
        "        #print(\"OK\")\n",
        "        #print(predicted_genders)\n",
        "        \n",
        "        ages = np.arange(0, 101).reshape(101, 1)\n",
        "        predicted_ages = results[1].dot(ages).flatten()\n",
        "\n",
        "        # make a prediction for Emotion \n",
        "        emo_labels = []\n",
        "        for (i, face) in enumerate(faces):\n",
        "            preds = classifier.predict(preprocessed_faces_emo[i])[0]\n",
        "            emo_labels.append(emotion_classes[preds.argmax()])\n",
        "        \n",
        "        # draw results, for Age and Gender\n",
        "        for (i, face) in enumerate(faces):\n",
        "            #print(predicted_genders[i][0][0])\n",
        "            label = \"{}, {}, {}\".format(int(predicted_ages[i]),\n",
        "                                        \"F\" if predicted_genders[i][0][0] > 0.5 else \"M\",\n",
        "                                        emo_labels[i])\n",
        "            \n",
        "        #Overlay our detected emotion on our pic\n",
        "        for (i, face) in enumerate(faces):\n",
        "            label_position = (rects[i][0] + int((rects[i][1]/2)), abs(rects[i][2] - 10))\n",
        "            cv2.putText(image, label, label_position , cv2.FONT_HERSHEY_PLAIN,1, (0,255,0), 2)\n",
        "\n",
        "    #cv2.imshow(image)\n",
        "    out.write(image)\n",
        "\n",
        "    if cv2.waitKey(1) == 13: #13 is the Enter Key\n",
        "        break\n",
        "\n",
        "cap.release()\n",
        "out.release()\n",
        "cv2.destroyAllWindows()      "
      ],
      "execution_count": null,
      "outputs": [
        {
          "output_type": "stream",
          "text": [
            "29.97002997002997\n"
          ],
          "name": "stdout"
        }
      ]
    }
  ]
}